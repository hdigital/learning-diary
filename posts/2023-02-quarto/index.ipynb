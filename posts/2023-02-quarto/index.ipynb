{
  "cells": [
    {
      "cell_type": "raw",
      "metadata": {},
      "source": [
        "---\n",
        "title: A few days of Quarto\n",
        "author: Holger Döring\n",
        "date: '2023-02-26'\n",
        "date-modified: ''\n",
        "image: thumbnail.png\n",
        "categories:\n",
        "  - Docker\n",
        "  - Python\n",
        "  - Quarto\n",
        "---"
      ],
      "id": "9da8fddd"
    },
    {
      "cell_type": "markdown",
      "metadata": {},
      "source": [
        "## Quarto\n",
        "\n",
        "So I have had my first experience with creating dynamic documents in Quarto. It has been a pleasant experience. I could use some of my RMarkdown und knitr skills and like that it is a program independent of R and RStudio. Working in VS Code to create a blog on _Things I Learned_ worked well.\n",
        "\n",
        "Only working with Python was really challenging. For some time several attempts to find the local Python version in the `env` folder did not work. `quarto check` found the respective Python version but it was not used when I rendered the document. At the end it was simply the header option `jupyter: python3` in the qmd-document that did the trick.\n",
        "\n",
        "Rendering a document with Python and R cells remained a challenge. Again, it was an option that was missing. Setting `#| python.reticulate: false` in a Python cell solved the issue.\n",
        "\n",
        "Many of my Python struggles in Quarto may have been related to the [reticulate](https://rstudio.github.io/reticulate/) R package.\n",
        "\n",
        "## Docker\n",
        "\n",
        "To get there I also created a `Dockerfile` to have an OS independent version of Quarto. That was another challenge until I first found a [Rocker](https://github.com/rocker-org/rocker) configuration that worked with Python. It is a whopping 4.5 GB image but incudes Latex to create pdf-files.\n",
        "\n",
        "Later I did some more experimenting with Docker and created a Jupyter Lab Docker image that is also quite large with almost 5 GB. In addition, I created a smaller image that includes only a minimal Python and Jupyter Lab. At least this one is a little smaller than 1 GB.\n",
        "\n",
        "I'll try to work with the local Quarto versions mainly but it is good to have OS independent Docker versions as well.\n",
        "\n",
        "## Python in Quarto\n",
        "\n",
        "Here is a [Quarto Guide](https://quarto.org/docs/computations/python.html#code-blocks) demonstration of a line plot on a polar axis, see @fig-polar.\n"
      ],
      "id": "902657fa"
    },
    {
      "cell_type": "code",
      "metadata": {},
      "source": [
        "#| label: fig-polar\n",
        "#| fig-cap: A line plot on a polar axis\n",
        "\n",
        "import numpy as np\n",
        "import matplotlib.pyplot as plt\n",
        "\n",
        "r = np.arange(0, 2, 0.01)\n",
        "theta = 2 * np.pi * r\n",
        "fig, ax = plt.subplots(\n",
        "  subplot_kw = {'projection': 'polar'}\n",
        ")\n",
        "ax.plot(theta, r)\n",
        "ax.set_rticks([0.5, 1, 1.5, 2])\n",
        "ax.grid(True)\n",
        "plt.show()"
      ],
      "id": "fig-polar",
      "execution_count": null,
      "outputs": []
    }
  ],
  "metadata": {
    "kernelspec": {
      "name": "python3",
      "language": "python",
      "display_name": "Python 3 (ipykernel)"
    }
  },
  "nbformat": 4,
  "nbformat_minor": 5
}