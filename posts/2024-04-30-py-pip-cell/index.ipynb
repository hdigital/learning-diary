{
 "cells": [
  {
   "cell_type": "raw",
   "metadata": {
    "vscode": {
     "languageId": "raw"
    }
   },
   "source": [
    "---\n",
    "date: \"2024-04-30\"\n",
    "image: jupyter-logo.png\n",
    "jupyter: python3\n",
    "categories: [Python]\n",
    "---\n"
   ]
  },
  {
   "cell_type": "markdown",
   "metadata": {},
   "source": [
    "# pip install in cell\n",
    "\n",
    "Sometimes, I want to install _pip_ packages in a Jupyter notebook without specifying the packages and pinning them in a `requirements.txt`.\n",
    "\n",
    "This is mainly for short notebooks that I want to share and that should run without any modifications.\n",
    "\n",
    "I have now found a solution with two IPython magic commands.\n",
    "\n",
    "`%%capture` suppresses cell output so that no information about the pip install or the already installed packages is added to the notebook.\n",
    "\n",
    "`%pip install` installs the specified packages."
   ]
  },
  {
   "cell_type": "code",
   "execution_count": 3,
   "metadata": {},
   "outputs": [],
   "source": [
    "%%capture\n",
    "\n",
    "%pip install goose3"
   ]
  },
  {
   "cell_type": "code",
   "execution_count": 4,
   "metadata": {},
   "outputs": [
    {
     "data": {
      "text/plain": [
       "'Nicaragua accused Germany of breaching the UN genocide convention by sending military hardware to Israel.'"
      ]
     },
     "execution_count": 4,
     "metadata": {},
     "output_type": "execute_result"
    }
   ],
   "source": [
    "from goose3 import Goose\n",
    "\n",
    "url = \"https://www.bbc.com/news/world-europe-68929873\"\n",
    "\n",
    "g = Goose()\n",
    "article = g.extract(url=url)\n",
    "\n",
    "article.meta_description"
   ]
  },
  {
   "cell_type": "markdown",
   "metadata": {},
   "source": [
    "![Jupyter](jupyter-logo.png)"
   ]
  }
 ],
 "metadata": {
  "kernelspec": {
   "display_name": "Python 3",
   "language": "python",
   "name": "python3"
  },
  "language_info": {
   "codemirror_mode": {
    "name": "ipython",
    "version": 3
   },
   "file_extension": ".py",
   "mimetype": "text/x-python",
   "name": "python",
   "nbconvert_exporter": "python",
   "pygments_lexer": "ipython3",
   "version": "3.10.14"
  }
 },
 "nbformat": 4,
 "nbformat_minor": 2
}
