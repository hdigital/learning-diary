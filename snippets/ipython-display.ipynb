{
 "cells": [
  {
   "cell_type": "markdown",
   "metadata": {},
   "source": [
    "# iPython display examples\n",
    "\n",
    "Some JupyterLite inspired examples (see [`python.ipynb`](https://github.com/jupyterlite/jupyterlite/blob/main/examples/python.ipynb)) of using [iPython display](https://ipython.readthedocs.io/en/stable/api/generated/IPython.display.html#IPython.display.display).\n"
   ]
  },
  {
   "cell_type": "code",
   "execution_count": 1,
   "metadata": {},
   "outputs": [],
   "source": [
    "from IPython.display import HTML, JSON, Markdown, Math, display"
   ]
  },
  {
   "cell_type": "markdown",
   "metadata": {},
   "source": [
    "## Single elements\n",
    "\n",
    "Individual elements can be rendered without `display()`"
   ]
  },
  {
   "cell_type": "code",
   "execution_count": 2,
   "metadata": {},
   "outputs": [
    {
     "data": {
      "text/html": [
       "<h3>HTML Title</h3>"
      ],
      "text/plain": [
       "<IPython.core.display.HTML object>"
      ]
     },
     "execution_count": 2,
     "metadata": {},
     "output_type": "execute_result"
    }
   ],
   "source": [
    "HTML(\"<h3>HTML Title</h3>\")"
   ]
  },
  {
   "cell_type": "code",
   "execution_count": 3,
   "metadata": {},
   "outputs": [
    {
     "data": {
      "text/markdown": [
       "### Markdown title"
      ],
      "text/plain": [
       "<IPython.core.display.Markdown object>"
      ]
     },
     "execution_count": 3,
     "metadata": {},
     "output_type": "execute_result"
    }
   ],
   "source": [
    "Markdown(\"### Markdown title\")"
   ]
  },
  {
   "cell_type": "code",
   "execution_count": 4,
   "metadata": {},
   "outputs": [
    {
     "data": {
      "text/latex": [
       "$\\displaystyle a^2 + b^2 = c^2$"
      ],
      "text/plain": [
       "<IPython.core.display.Math object>"
      ]
     },
     "execution_count": 4,
     "metadata": {},
     "output_type": "execute_result"
    }
   ],
   "source": [
    "Math(\"a^2 + b^2 = c^2\")"
   ]
  },
  {
   "cell_type": "code",
   "execution_count": 5,
   "metadata": {},
   "outputs": [
    {
     "data": {
      "application/json": "",
      "text/plain": [
       "<IPython.core.display.JSON object>"
      ]
     },
     "execution_count": 5,
     "metadata": {
      "application/json": {
       "expanded": true,
       "root": "root"
      }
     },
     "output_type": "execute_result"
    }
   ],
   "source": [
    "JSON([\"foo\", {\"bar\": (\"baz\", None, 1.0, 2)}], expanded=True)"
   ]
  },
  {
   "cell_type": "markdown",
   "metadata": {},
   "source": [
    "## Multiple elements\n",
    "\n",
    "Use display to show multipe elements from a single cell."
   ]
  },
  {
   "cell_type": "code",
   "execution_count": 6,
   "metadata": {},
   "outputs": [
    {
     "data": {
      "text/html": [
       "<em>HTML element</em>"
      ],
      "text/plain": [
       "<IPython.core.display.HTML object>"
      ]
     },
     "metadata": {},
     "output_type": "display_data"
    },
    {
     "data": {
      "text/markdown": [
       "__Markdown title__"
      ],
      "text/plain": [
       "<IPython.core.display.Markdown object>"
      ]
     },
     "metadata": {},
     "output_type": "display_data"
    },
    {
     "data": {
      "text/latex": [
       "$\\displaystyle a^2 + b^2 = c^2$"
      ],
      "text/plain": [
       "<IPython.core.display.Math object>"
      ]
     },
     "metadata": {},
     "output_type": "display_data"
    }
   ],
   "source": [
    "display(HTML(\"<em>HTML element</em>\"))\n",
    "display(Markdown(\"__Markdown title__\"))\n",
    "display(Math(\"a^2 + b^2 = c^2\"))"
   ]
  },
  {
   "cell_type": "code",
   "execution_count": 7,
   "metadata": {},
   "outputs": [
    {
     "name": "stdout",
     "output_type": "stream",
     "text": [
      "'first element'\n"
     ]
    },
    {
     "data": {
      "text/plain": [
       "'second element'"
      ]
     },
     "metadata": {},
     "output_type": "display_data"
    },
    {
     "name": "stdout",
     "output_type": "stream",
     "text": [
      "'third element'\n"
     ]
    }
   ],
   "source": [
    "print(\"'first element'\")\n",
    "display(\"second element\")\n",
    "print(\"'third element'\")"
   ]
  },
  {
   "cell_type": "markdown",
   "metadata": {},
   "source": [
    "---\n",
    "\n",
    "This does not work without `display()`"
   ]
  },
  {
   "cell_type": "code",
   "execution_count": 8,
   "metadata": {},
   "outputs": [
    {
     "data": {
      "text/markdown": [
       "only last Markdown element _shown_"
      ],
      "text/plain": [
       "<IPython.core.display.Markdown object>"
      ]
     },
     "execution_count": 8,
     "metadata": {},
     "output_type": "execute_result"
    }
   ],
   "source": [
    "HTML(\"first HTML element <em>not shown</em>\")\n",
    "Markdown(\"only last Markdown element _shown_\")"
   ]
  },
  {
   "cell_type": "markdown",
   "metadata": {},
   "source": [
    "# JupyterLite examples\n",
    "\n",
    "The [JupyterLite example _python.ipynb_](https://github.com/jupyterlite/jupyterlite/blob/main/examples/python.ipynb) made me aware of iPython display.\n",
    "\n",
    "Here are some of these examples. They are modified to get a nice table of content in Jupyter."
   ]
  },
  {
   "cell_type": "code",
   "execution_count": 9,
   "metadata": {},
   "outputs": [],
   "source": [
    "from IPython.display import HTML, JSON, Latex, Markdown"
   ]
  },
  {
   "cell_type": "markdown",
   "metadata": {},
   "source": [
    "## HTML"
   ]
  },
  {
   "cell_type": "code",
   "execution_count": 10,
   "metadata": {},
   "outputs": [
    {
     "name": "stdout",
     "output_type": "stream",
     "text": [
      "Before display\n"
     ]
    },
    {
     "data": {
      "text/html": [
       "<h3>HTML Title</h3>"
      ],
      "text/plain": [
       "<IPython.core.display.HTML object>"
      ]
     },
     "metadata": {},
     "output_type": "display_data"
    },
    {
     "name": "stdout",
     "output_type": "stream",
     "text": [
      "After display\n"
     ]
    }
   ],
   "source": [
    "print(\"Before display\")\n",
    "\n",
    "s = \"<h3>HTML Title</h3>\"\n",
    "display(HTML(s))\n",
    "\n",
    "print(\"After display\")"
   ]
  },
  {
   "cell_type": "code",
   "execution_count": 11,
   "metadata": {},
   "outputs": [
    {
     "data": {
      "text/html": [
       "\n",
       "        <div style=\"background: aliceblue; width: 200px; height: 100px; border-radius: 10px;\">\n",
       "        </div>\n",
       "    "
      ],
      "text/plain": [
       "<IPython.core.display.HTML object>"
      ]
     },
     "execution_count": 11,
     "metadata": {},
     "output_type": "execute_result"
    }
   ],
   "source": [
    "HTML(\n",
    "    \"\"\"\n",
    "        <div style=\"background: aliceblue; width: 200px; height: 100px; border-radius: 10px;\">\n",
    "        </div>\n",
    "    \"\"\"  # noqa: E501\n",
    ")"
   ]
  },
  {
   "cell_type": "markdown",
   "metadata": {},
   "source": [
    "## Markdown"
   ]
  },
  {
   "cell_type": "code",
   "execution_count": 12,
   "metadata": {},
   "outputs": [
    {
     "data": {
      "text/markdown": [
       "\n",
       "### Title\n",
       "\n",
       "**in bold**\n",
       "\n",
       "~~Strikethrough~~\n"
      ],
      "text/plain": [
       "<IPython.core.display.Markdown object>"
      ]
     },
     "execution_count": 12,
     "metadata": {},
     "output_type": "execute_result"
    }
   ],
   "source": [
    "Markdown(\n",
    "    \"\"\"\n",
    "### Title\n",
    "\n",
    "**in bold**\n",
    "\n",
    "~~Strikethrough~~\n",
    "\"\"\"\n",
    ")"
   ]
  },
  {
   "cell_type": "markdown",
   "metadata": {},
   "source": [
    "## Pandas DataFrame"
   ]
  },
  {
   "cell_type": "code",
   "execution_count": 13,
   "metadata": {},
   "outputs": [
    {
     "data": {
      "text/html": [
       "<div>\n",
       "<style scoped>\n",
       "    .dataframe tbody tr th:only-of-type {\n",
       "        vertical-align: middle;\n",
       "    }\n",
       "\n",
       "    .dataframe tbody tr th {\n",
       "        vertical-align: top;\n",
       "    }\n",
       "\n",
       "    .dataframe thead th {\n",
       "        text-align: right;\n",
       "    }\n",
       "</style>\n",
       "<table border=\"1\" class=\"dataframe\">\n",
       "  <thead>\n",
       "    <tr style=\"text-align: right;\">\n",
       "      <th></th>\n",
       "      <th>A</th>\n",
       "      <th>B</th>\n",
       "      <th>C</th>\n",
       "      <th>D</th>\n",
       "      <th>E</th>\n",
       "      <th>F</th>\n",
       "      <th>G</th>\n",
       "      <th>H</th>\n",
       "      <th>I</th>\n",
       "      <th>J</th>\n",
       "      <th>...</th>\n",
       "      <th>Q</th>\n",
       "      <th>R</th>\n",
       "      <th>S</th>\n",
       "      <th>T</th>\n",
       "      <th>U</th>\n",
       "      <th>V</th>\n",
       "      <th>W</th>\n",
       "      <th>X</th>\n",
       "      <th>Y</th>\n",
       "      <th>Z</th>\n",
       "    </tr>\n",
       "  </thead>\n",
       "  <tbody>\n",
       "    <tr>\n",
       "      <th>0</th>\n",
       "      <td>43</td>\n",
       "      <td>27</td>\n",
       "      <td>22</td>\n",
       "      <td>30</td>\n",
       "      <td>11</td>\n",
       "      <td>64</td>\n",
       "      <td>63</td>\n",
       "      <td>50</td>\n",
       "      <td>90</td>\n",
       "      <td>53</td>\n",
       "      <td>...</td>\n",
       "      <td>2</td>\n",
       "      <td>38</td>\n",
       "      <td>30</td>\n",
       "      <td>53</td>\n",
       "      <td>50</td>\n",
       "      <td>93</td>\n",
       "      <td>43</td>\n",
       "      <td>44</td>\n",
       "      <td>20</td>\n",
       "      <td>28</td>\n",
       "    </tr>\n",
       "    <tr>\n",
       "      <th>1</th>\n",
       "      <td>79</td>\n",
       "      <td>21</td>\n",
       "      <td>73</td>\n",
       "      <td>33</td>\n",
       "      <td>14</td>\n",
       "      <td>84</td>\n",
       "      <td>79</td>\n",
       "      <td>21</td>\n",
       "      <td>77</td>\n",
       "      <td>37</td>\n",
       "      <td>...</td>\n",
       "      <td>93</td>\n",
       "      <td>61</td>\n",
       "      <td>32</td>\n",
       "      <td>23</td>\n",
       "      <td>38</td>\n",
       "      <td>17</td>\n",
       "      <td>10</td>\n",
       "      <td>2</td>\n",
       "      <td>89</td>\n",
       "      <td>23</td>\n",
       "    </tr>\n",
       "    <tr>\n",
       "      <th>2</th>\n",
       "      <td>60</td>\n",
       "      <td>89</td>\n",
       "      <td>4</td>\n",
       "      <td>35</td>\n",
       "      <td>13</td>\n",
       "      <td>53</td>\n",
       "      <td>64</td>\n",
       "      <td>12</td>\n",
       "      <td>13</td>\n",
       "      <td>66</td>\n",
       "      <td>...</td>\n",
       "      <td>25</td>\n",
       "      <td>6</td>\n",
       "      <td>53</td>\n",
       "      <td>6</td>\n",
       "      <td>60</td>\n",
       "      <td>19</td>\n",
       "      <td>98</td>\n",
       "      <td>65</td>\n",
       "      <td>73</td>\n",
       "      <td>89</td>\n",
       "    </tr>\n",
       "    <tr>\n",
       "      <th>3</th>\n",
       "      <td>41</td>\n",
       "      <td>64</td>\n",
       "      <td>96</td>\n",
       "      <td>28</td>\n",
       "      <td>25</td>\n",
       "      <td>8</td>\n",
       "      <td>26</td>\n",
       "      <td>65</td>\n",
       "      <td>32</td>\n",
       "      <td>30</td>\n",
       "      <td>...</td>\n",
       "      <td>4</td>\n",
       "      <td>27</td>\n",
       "      <td>53</td>\n",
       "      <td>53</td>\n",
       "      <td>11</td>\n",
       "      <td>95</td>\n",
       "      <td>10</td>\n",
       "      <td>97</td>\n",
       "      <td>88</td>\n",
       "      <td>19</td>\n",
       "    </tr>\n",
       "    <tr>\n",
       "      <th>4</th>\n",
       "      <td>15</td>\n",
       "      <td>93</td>\n",
       "      <td>72</td>\n",
       "      <td>37</td>\n",
       "      <td>17</td>\n",
       "      <td>94</td>\n",
       "      <td>16</td>\n",
       "      <td>22</td>\n",
       "      <td>34</td>\n",
       "      <td>77</td>\n",
       "      <td>...</td>\n",
       "      <td>22</td>\n",
       "      <td>45</td>\n",
       "      <td>22</td>\n",
       "      <td>0</td>\n",
       "      <td>35</td>\n",
       "      <td>47</td>\n",
       "      <td>15</td>\n",
       "      <td>26</td>\n",
       "      <td>53</td>\n",
       "      <td>38</td>\n",
       "    </tr>\n",
       "    <tr>\n",
       "      <th>...</th>\n",
       "      <td>...</td>\n",
       "      <td>...</td>\n",
       "      <td>...</td>\n",
       "      <td>...</td>\n",
       "      <td>...</td>\n",
       "      <td>...</td>\n",
       "      <td>...</td>\n",
       "      <td>...</td>\n",
       "      <td>...</td>\n",
       "      <td>...</td>\n",
       "      <td>...</td>\n",
       "      <td>...</td>\n",
       "      <td>...</td>\n",
       "      <td>...</td>\n",
       "      <td>...</td>\n",
       "      <td>...</td>\n",
       "      <td>...</td>\n",
       "      <td>...</td>\n",
       "      <td>...</td>\n",
       "      <td>...</td>\n",
       "      <td>...</td>\n",
       "    </tr>\n",
       "    <tr>\n",
       "      <th>95</th>\n",
       "      <td>96</td>\n",
       "      <td>84</td>\n",
       "      <td>86</td>\n",
       "      <td>54</td>\n",
       "      <td>51</td>\n",
       "      <td>75</td>\n",
       "      <td>39</td>\n",
       "      <td>31</td>\n",
       "      <td>78</td>\n",
       "      <td>66</td>\n",
       "      <td>...</td>\n",
       "      <td>92</td>\n",
       "      <td>97</td>\n",
       "      <td>72</td>\n",
       "      <td>58</td>\n",
       "      <td>82</td>\n",
       "      <td>51</td>\n",
       "      <td>22</td>\n",
       "      <td>51</td>\n",
       "      <td>55</td>\n",
       "      <td>13</td>\n",
       "    </tr>\n",
       "    <tr>\n",
       "      <th>96</th>\n",
       "      <td>56</td>\n",
       "      <td>54</td>\n",
       "      <td>86</td>\n",
       "      <td>21</td>\n",
       "      <td>86</td>\n",
       "      <td>16</td>\n",
       "      <td>65</td>\n",
       "      <td>56</td>\n",
       "      <td>96</td>\n",
       "      <td>62</td>\n",
       "      <td>...</td>\n",
       "      <td>19</td>\n",
       "      <td>8</td>\n",
       "      <td>29</td>\n",
       "      <td>58</td>\n",
       "      <td>11</td>\n",
       "      <td>28</td>\n",
       "      <td>58</td>\n",
       "      <td>55</td>\n",
       "      <td>81</td>\n",
       "      <td>0</td>\n",
       "    </tr>\n",
       "    <tr>\n",
       "      <th>97</th>\n",
       "      <td>62</td>\n",
       "      <td>7</td>\n",
       "      <td>94</td>\n",
       "      <td>1</td>\n",
       "      <td>1</td>\n",
       "      <td>73</td>\n",
       "      <td>83</td>\n",
       "      <td>82</td>\n",
       "      <td>42</td>\n",
       "      <td>63</td>\n",
       "      <td>...</td>\n",
       "      <td>54</td>\n",
       "      <td>59</td>\n",
       "      <td>14</td>\n",
       "      <td>92</td>\n",
       "      <td>42</td>\n",
       "      <td>54</td>\n",
       "      <td>71</td>\n",
       "      <td>33</td>\n",
       "      <td>15</td>\n",
       "      <td>7</td>\n",
       "    </tr>\n",
       "    <tr>\n",
       "      <th>98</th>\n",
       "      <td>86</td>\n",
       "      <td>88</td>\n",
       "      <td>62</td>\n",
       "      <td>58</td>\n",
       "      <td>60</td>\n",
       "      <td>83</td>\n",
       "      <td>79</td>\n",
       "      <td>26</td>\n",
       "      <td>32</td>\n",
       "      <td>68</td>\n",
       "      <td>...</td>\n",
       "      <td>44</td>\n",
       "      <td>49</td>\n",
       "      <td>8</td>\n",
       "      <td>8</td>\n",
       "      <td>80</td>\n",
       "      <td>26</td>\n",
       "      <td>34</td>\n",
       "      <td>59</td>\n",
       "      <td>86</td>\n",
       "      <td>14</td>\n",
       "    </tr>\n",
       "    <tr>\n",
       "      <th>99</th>\n",
       "      <td>91</td>\n",
       "      <td>65</td>\n",
       "      <td>43</td>\n",
       "      <td>30</td>\n",
       "      <td>51</td>\n",
       "      <td>40</td>\n",
       "      <td>97</td>\n",
       "      <td>81</td>\n",
       "      <td>35</td>\n",
       "      <td>76</td>\n",
       "      <td>...</td>\n",
       "      <td>37</td>\n",
       "      <td>2</td>\n",
       "      <td>15</td>\n",
       "      <td>24</td>\n",
       "      <td>76</td>\n",
       "      <td>99</td>\n",
       "      <td>42</td>\n",
       "      <td>84</td>\n",
       "      <td>87</td>\n",
       "      <td>5</td>\n",
       "    </tr>\n",
       "  </tbody>\n",
       "</table>\n",
       "<p>100 rows × 26 columns</p>\n",
       "</div>"
      ],
      "text/plain": [
       "     A   B   C   D   E   F   G   H   I   J  ...   Q   R   S   T   U   V   W  \\\n",
       "0   43  27  22  30  11  64  63  50  90  53  ...   2  38  30  53  50  93  43   \n",
       "1   79  21  73  33  14  84  79  21  77  37  ...  93  61  32  23  38  17  10   \n",
       "2   60  89   4  35  13  53  64  12  13  66  ...  25   6  53   6  60  19  98   \n",
       "3   41  64  96  28  25   8  26  65  32  30  ...   4  27  53  53  11  95  10   \n",
       "4   15  93  72  37  17  94  16  22  34  77  ...  22  45  22   0  35  47  15   \n",
       "..  ..  ..  ..  ..  ..  ..  ..  ..  ..  ..  ...  ..  ..  ..  ..  ..  ..  ..   \n",
       "95  96  84  86  54  51  75  39  31  78  66  ...  92  97  72  58  82  51  22   \n",
       "96  56  54  86  21  86  16  65  56  96  62  ...  19   8  29  58  11  28  58   \n",
       "97  62   7  94   1   1  73  83  82  42  63  ...  54  59  14  92  42  54  71   \n",
       "98  86  88  62  58  60  83  79  26  32  68  ...  44  49   8   8  80  26  34   \n",
       "99  91  65  43  30  51  40  97  81  35  76  ...  37   2  15  24  76  99  42   \n",
       "\n",
       "     X   Y   Z  \n",
       "0   44  20  28  \n",
       "1    2  89  23  \n",
       "2   65  73  89  \n",
       "3   97  88  19  \n",
       "4   26  53  38  \n",
       "..  ..  ..  ..  \n",
       "95  51  55  13  \n",
       "96  55  81   0  \n",
       "97  33  15   7  \n",
       "98  59  86  14  \n",
       "99  84  87   5  \n",
       "\n",
       "[100 rows x 26 columns]"
      ]
     },
     "execution_count": 13,
     "metadata": {},
     "output_type": "execute_result"
    }
   ],
   "source": [
    "from string import ascii_uppercase as letters\n",
    "\n",
    "import numpy as np\n",
    "import pandas as pd\n",
    "from IPython.display import display\n",
    "\n",
    "df = pd.DataFrame(\n",
    "    np.random.randint(0, 100, size=(100, len(letters))), columns=list(letters)\n",
    ")\n",
    "df"
   ]
  },
  {
   "cell_type": "markdown",
   "metadata": {},
   "source": [
    "## Math"
   ]
  },
  {
   "cell_type": "code",
   "execution_count": 14,
   "metadata": {},
   "outputs": [
    {
     "data": {
      "text/latex": [
       "$\\displaystyle F(k) = \\int_{-\\infty}^{\\infty} f(x) e^{2\\pi i k} dx$"
      ],
      "text/plain": [
       "<IPython.core.display.Math object>"
      ]
     },
     "execution_count": 14,
     "metadata": {},
     "output_type": "execute_result"
    }
   ],
   "source": [
    "from IPython.display import Math\n",
    "\n",
    "Math(r\"F(k) = \\int_{-\\infty}^{\\infty} f(x) e^{2\\pi i k} dx\")"
   ]
  },
  {
   "cell_type": "markdown",
   "metadata": {},
   "source": [
    "## Latex"
   ]
  },
  {
   "cell_type": "code",
   "execution_count": 15,
   "metadata": {},
   "outputs": [
    {
     "data": {
      "text/latex": [
       "\n",
       "      \\begin{eqnarray}\n",
       "        \\nabla \\times \\vec{\\mathbf{B}} -\\, \\frac1c\\, \\frac{\\partial\\vec{\\mathbf{E}}}{\\partial t} & = \\frac{4\\pi}{c}\\vec{\\mathbf{j}} \\\\\n",
       "        \\nabla \\cdot \\vec{\\mathbf{E}} & = 4 \\pi \\rho \\\\\n",
       "        \\nabla \\times \\vec{\\mathbf{E}}\\, +\\, \\frac1c\\, \\frac{\\partial\\vec{\\mathbf{B}}}{\\partial t} & = \\vec{\\mathbf{0}} \\\\\n",
       "        \\nabla \\cdot \\vec{\\mathbf{B}} & = 0\n",
       "      \\end{eqnarray}\n",
       "      "
      ],
      "text/plain": [
       "<IPython.core.display.Latex object>"
      ]
     },
     "execution_count": 15,
     "metadata": {},
     "output_type": "execute_result"
    }
   ],
   "source": [
    "Latex(\n",
    "    r\"\"\"\n",
    "      \\begin{eqnarray}\n",
    "        \\nabla \\times \\vec{\\mathbf{B}} -\\, \\frac1c\\, \\frac{\\partial\\vec{\\mathbf{E}}}{\\partial t} & = \\frac{4\\pi}{c}\\vec{\\mathbf{j}} \\\\\n",
    "        \\nabla \\cdot \\vec{\\mathbf{E}} & = 4 \\pi \\rho \\\\\n",
    "        \\nabla \\times \\vec{\\mathbf{E}}\\, +\\, \\frac1c\\, \\frac{\\partial\\vec{\\mathbf{B}}}{\\partial t} & = \\vec{\\mathbf{0}} \\\\\n",
    "        \\nabla \\cdot \\vec{\\mathbf{B}} & = 0\n",
    "      \\end{eqnarray}\n",
    "      \"\"\"  # noqa: E501\n",
    ")"
   ]
  },
  {
   "cell_type": "markdown",
   "metadata": {},
   "source": [
    "## JSON"
   ]
  },
  {
   "cell_type": "code",
   "execution_count": 16,
   "metadata": {},
   "outputs": [
    {
     "data": {
      "application/json": "",
      "text/plain": [
       "<IPython.core.display.JSON object>"
      ]
     },
     "execution_count": 16,
     "metadata": {
      "application/json": {
       "expanded": true,
       "root": "test"
      }
     },
     "output_type": "execute_result"
    }
   ],
   "source": [
    "JSON([\"foo\", {\"bar\": (\"baz\", None, 1.0, 2)}], metadata={}, expanded=True, root=\"test\")"
   ]
  },
  {
   "cell_type": "markdown",
   "metadata": {},
   "source": [
    "## Network requests and JSON\n",
    "\n",
    "Here, I use _requests_ instead of the JupyterLite version with _js_."
   ]
  },
  {
   "cell_type": "code",
   "execution_count": 17,
   "metadata": {},
   "outputs": [
    {
     "name": "stdout",
     "output_type": "stream",
     "text": [
      "/Users/hd/hd/learning/learning-diary/.venv/bin/python: No module named pip\n",
      "Note: you may need to restart the kernel to use updated packages.\n"
     ]
    }
   ],
   "source": [
    "%pip install -q requests"
   ]
  },
  {
   "cell_type": "code",
   "execution_count": 18,
   "metadata": {},
   "outputs": [
    {
     "data": {
      "text/plain": [
       "'{\\n  \"args\": {}, \\n  \"headers\": {\\n    \"Accept\": \"*/*\", \\n    \"Accept-Encoding\": \"gzip, deflate\", \\n    \"Host\": \"httpbin.org\", \\n    \"User-Agent\": \"python-requests/2.31.0\", \\n    \"X-Amzn-Trace-Id\": \"Root=1-65fab6bc-1087d67f265788bf1f4c3a6d\"\\n  }, \\n  \"origin\": \"79.212.250.177\", \\n  \"url\": \"https://httpbin.org/get\"\\n}\\n'"
      ]
     },
     "execution_count": 18,
     "metadata": {},
     "output_type": "execute_result"
    }
   ],
   "source": [
    "import requests\n",
    "\n",
    "r = requests.get(\"https://httpbin.org/get\")\n",
    "r.text"
   ]
  },
  {
   "cell_type": "code",
   "execution_count": 19,
   "metadata": {},
   "outputs": [
    {
     "data": {
      "application/json": {
       "args": {},
       "headers": {
        "Accept": "*/*",
        "Accept-Encoding": "gzip, deflate",
        "Host": "httpbin.org",
        "User-Agent": "python-requests/2.31.0",
        "X-Amzn-Trace-Id": "Root=1-65fab6bc-1087d67f265788bf1f4c3a6d"
       },
       "origin": "79.212.250.177",
       "url": "https://httpbin.org/get"
      },
      "text/plain": [
       "<IPython.core.display.JSON object>"
      ]
     },
     "execution_count": 19,
     "metadata": {
      "application/json": {
       "expanded": false,
       "root": "root"
      }
     },
     "output_type": "execute_result"
    }
   ],
   "source": [
    "JSON(r.json())"
   ]
  }
 ],
 "metadata": {
  "kernelspec": {
   "display_name": "python3",
   "language": "python",
   "name": "python3"
  },
  "language_info": {
   "codemirror_mode": {
    "name": "ipython",
    "version": 3
   },
   "file_extension": ".py",
   "mimetype": "text/x-python",
   "name": "python",
   "nbconvert_exporter": "python",
   "pygments_lexer": "ipython3",
   "version": "3.10.13"
  }
 },
 "nbformat": 4,
 "nbformat_minor": 4
}
